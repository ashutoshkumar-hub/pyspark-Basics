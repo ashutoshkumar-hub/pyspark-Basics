{
 "cells": [
  {
   "cell_type": "code",
   "execution_count": 0,
   "metadata": {
    "application/vnd.databricks.v1+cell": {
     "cellMetadata": {
      "byteLimit": 2048000,
      "rowLimit": 10000
     },
     "inputWidgets": {},
     "nuid": "4298ad4f-ca00-431f-8de3-51ed4d0cd5a6",
     "showTitle": false,
     "title": ""
    }
   },
   "outputs": [
    {
     "output_type": "stream",
     "name": "stdout",
     "output_type": "stream",
     "text": [
      "+---+------+------+\n| id|  name|salary|\n+---+------+------+\n|  1|  Ashu| 20000|\n|  2|Swetha| 40000|\n+---+------+------+\n\n+---+-----+----------+\n| id| name|department|\n+---+-----+----------+\n|  3|  Asi|        IT|\n|  4|Atlee|   Payroll|\n+---+-----+----------+\n\n+---+------+------+----------+\n| id|  name|salary|department|\n+---+------+------+----------+\n|  1|  Ashu| 20000|      null|\n|  2|Swetha| 40000|      null|\n|  3|   Asi|  null|        IT|\n|  4| Atlee|  null|   Payroll|\n+---+------+------+----------+\n\n"
     ]
    }
   ],
   "source": [
    "data1 = [(1,'Ashu',20000),(2,'Swetha',40000)]\n",
    "schema1=['id','name','salary']\n",
    "\n",
    "data2 = [(3,'Asi','IT'),(4,'Atlee','Payroll')]\n",
    "schema2=['id','name','department']\n",
    "\n",
    "df1=spark.createDataFrame(data1,schema1)\n",
    "df2=spark.createDataFrame(data2,schema2)\n",
    "\n",
    "df1.show()\n",
    "df2.show()\n",
    "\n",
    "df1.unionByName(df2, allowMissingColumns=True).show()"
   ]
  },
  {
   "cell_type": "code",
   "execution_count": 0,
   "metadata": {
    "application/vnd.databricks.v1+cell": {
     "cellMetadata": {},
     "inputWidgets": {},
     "nuid": "11c5b97b-0b46-47d9-bbf8-f931eee2927c",
     "showTitle": false,
     "title": ""
    }
   },
   "outputs": [],
   "source": []
  }
 ],
 "metadata": {
  "application/vnd.databricks.v1+notebook": {
   "dashboards": [],
   "language": "python",
   "notebookMetadata": {
    "pythonIndentUnit": 4
   },
   "notebookName": "unionByNameNotebook",
   "widgets": {}
  }
 },
 "nbformat": 4,
 "nbformat_minor": 0
}
