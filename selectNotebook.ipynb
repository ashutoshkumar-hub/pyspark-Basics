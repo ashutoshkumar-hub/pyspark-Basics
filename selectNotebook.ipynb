{
 "cells": [
  {
   "cell_type": "code",
   "execution_count": 0,
   "metadata": {
    "application/vnd.databricks.v1+cell": {
     "cellMetadata": {
      "byteLimit": 2048000,
      "rowLimit": 10000
     },
     "inputWidgets": {},
     "nuid": "9aec2446-0243-4787-9afa-f3bf191b0632",
     "showTitle": false,
     "title": ""
    }
   },
   "outputs": [
    {
     "output_type": "stream",
     "name": "stdout",
     "output_type": "stream",
     "text": [
      "+---+------+------+------+----------+\n| id|  name|gender|salary|department|\n+---+------+------+------+----------+\n|  1|  Ashu|  male| 20000|        IT|\n|  2|Swetha|female| 40000|        HR|\n+---+------+------+------+----------+\n\n+---+------+\n| id|  name|\n+---+------+\n|  1|  Ashu|\n|  2|Swetha|\n+---+------+\n\n+---+------+\n| id|  name|\n+---+------+\n|  1|  Ashu|\n|  2|Swetha|\n+---+------+\n\n+---+------+\n| id|  name|\n+---+------+\n|  1|  Ashu|\n|  2|Swetha|\n+---+------+\n\n+---+------+\n| id|  name|\n+---+------+\n|  1|  Ashu|\n|  2|Swetha|\n+---+------+\n\n+---+------+\n| id|  name|\n+---+------+\n|  1|  Ashu|\n|  2|Swetha|\n+---+------+\n\n"
     ]
    }
   ],
   "source": [
    "data = [(1,'Ashu','male',20000,'IT'),(2,'Swetha','female',40000,'HR')]\n",
    "schema=['id','name','gender','salary','department']\n",
    "\n",
    "df = spark.createDataFrame(data,schema)\n",
    "df.show()\n",
    "\n",
    "# select() single or multiple column\n",
    "df.select('id','name').show()\n",
    "df.select(df.id,df.name).show()\n",
    "df.select(df['id'],df['name']).show()\n",
    "\n",
    "#using col() function\n",
    "from pyspark.sql.functions import col\n",
    "df.select(col('id'),col('name')).show()\n",
    "\n",
    "#show value through list function\n",
    "df.select(['id','name']).show()"
   ]
  },
  {
   "cell_type": "code",
   "execution_count": 0,
   "metadata": {
    "application/vnd.databricks.v1+cell": {
     "cellMetadata": {},
     "inputWidgets": {},
     "nuid": "75e0987d-6749-41b0-9d36-6c2262a84671",
     "showTitle": false,
     "title": ""
    }
   },
   "outputs": [],
   "source": []
  }
 ],
 "metadata": {
  "application/vnd.databricks.v1+notebook": {
   "dashboards": [],
   "language": "python",
   "notebookMetadata": {
    "pythonIndentUnit": 4
   },
   "notebookName": "selectNotebook",
   "widgets": {}
  }
 },
 "nbformat": 4,
 "nbformat_minor": 0
}
