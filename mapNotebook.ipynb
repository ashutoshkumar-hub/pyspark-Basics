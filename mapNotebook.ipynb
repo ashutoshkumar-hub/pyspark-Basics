{
 "cells": [
  {
   "cell_type": "code",
   "execution_count": 0,
   "metadata": {
    "application/vnd.databricks.v1+cell": {
     "cellMetadata": {
      "byteLimit": 2048000,
      "rowLimit": 10000
     },
     "inputWidgets": {},
     "nuid": "a3cab659-3bc1-4db5-91d3-c432c9b6a907",
     "showTitle": false,
     "title": ""
    }
   },
   "outputs": [
    {
     "output_type": "stream",
     "name": "stdout",
     "output_type": "stream",
     "text": [
      "[('jai', 'jain', 'jai jain'), ('akash', 'singh', 'akash singh')]\n"
     ]
    }
   ],
   "source": [
    "data = [('jai','jain'),('akash','singh')]\n",
    "\n",
    "rdd = spark.sparkContext.parallelize(data)\n",
    "#print(rdd.collect())\n",
    "\n",
    "rdd1 = rdd.map(lambda x: x + (x[0]+ ' ' + x[1],))\n",
    "print(rdd1.collect())"
   ]
  },
  {
   "cell_type": "code",
   "execution_count": 0,
   "metadata": {
    "application/vnd.databricks.v1+cell": {
     "cellMetadata": {
      "byteLimit": 2048000,
      "rowLimit": 10000
     },
     "inputWidgets": {},
     "nuid": "a7f1cfc6-c5c4-417a-ab88-62d47988deed",
     "showTitle": false,
     "title": ""
    }
   },
   "outputs": [
    {
     "output_type": "stream",
     "name": "stdout",
     "output_type": "stream",
     "text": [
      "+-----+-----+-----------+\n|   fn|   ln|   fullname|\n+-----+-----+-----------+\n|  jai| jain|   jai jain|\n|akash|singh|akash singh|\n+-----+-----+-----------+\n\n"
     ]
    }
   ],
   "source": [
    "data = [('jai','jain'),('akash','singh')]\n",
    "df = spark.createDataFrame(data,['fn','ln'])\n",
    "#df.show()\n",
    "rdd1 = df.rdd.map(lambda x: x + (x[0] +' '+ x[1],))\n",
    "df1 = rdd1.toDF(['fn','ln','fullname'])\n",
    "df1.show()"
   ]
  },
  {
   "cell_type": "code",
   "execution_count": 0,
   "metadata": {
    "application/vnd.databricks.v1+cell": {
     "cellMetadata": {
      "byteLimit": 2048000,
      "rowLimit": 10000
     },
     "inputWidgets": {},
     "nuid": "fadfd3ff-e62d-40b6-828a-c7737ad1ef91",
     "showTitle": false,
     "title": ""
    }
   },
   "outputs": [
    {
     "output_type": "stream",
     "name": "stdout",
     "output_type": "stream",
     "text": [
      "+-----+-----+-----------+\n|   fn|   ln|   fullname|\n+-----+-----+-----------+\n|  jai| jain|   jai jain|\n|akash|singh|akash singh|\n+-----+-----+-----------+\n\n"
     ]
    }
   ],
   "source": [
    "def fullname(x):\n",
    "    return x + (x[0]+ ' ' + x[1],)\n",
    "\n",
    "data = [('jai','jain'),('akash','singh')]\n",
    "df = spark.createDataFrame(data,['fn','ln'])\n",
    "rdd1 = df.rdd.map(lambda x: fullname(x))\n",
    "df1 = rdd1.toDF(['fn','ln','fullname'])\n",
    "df1.show()"
   ]
  },
  {
   "cell_type": "code",
   "execution_count": 0,
   "metadata": {
    "application/vnd.databricks.v1+cell": {
     "cellMetadata": {},
     "inputWidgets": {},
     "nuid": "62010803-4b1f-4f04-8426-cb25ef0a07b1",
     "showTitle": false,
     "title": ""
    }
   },
   "outputs": [],
   "source": []
  }
 ],
 "metadata": {
  "application/vnd.databricks.v1+notebook": {
   "dashboards": [],
   "language": "python",
   "notebookMetadata": {
    "pythonIndentUnit": 4
   },
   "notebookName": "mapNotebook",
   "widgets": {}
  }
 },
 "nbformat": 4,
 "nbformat_minor": 0
}
