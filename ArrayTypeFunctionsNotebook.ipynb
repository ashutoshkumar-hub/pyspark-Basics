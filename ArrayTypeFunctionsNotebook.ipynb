{
 "cells": [
  {
   "cell_type": "code",
   "execution_count": 0,
   "metadata": {
    "application/vnd.databricks.v1+cell": {
     "cellMetadata": {
      "byteLimit": 2048000,
      "rowLimit": 10000
     },
     "inputWidgets": {},
     "nuid": "3c474119-ce1a-4e2a-a858-c07c023b9b52",
     "showTitle": false,
     "title": ""
    }
   },
   "outputs": [
    {
     "output_type": "stream",
     "name": "stdout",
     "output_type": "stream",
     "text": [
      "+---+--------+-------------------+\n| id|    name|             skills|\n+---+--------+-------------------+\n|  1|  Akarsh|        [Java, sql]|\n|  2|Abhishek|[Python, Snowflake]|\n+---+--------+-------------------+\n\nroot\n |-- id: long (nullable = true)\n |-- name: string (nullable = true)\n |-- skills: array (nullable = true)\n |    |-- element: string (containsNull = true)\n\n"
     ]
    },
    {
     "output_type": "display_data",
     "data": {
      "text/html": [
       "<style scoped>\n",
       "  .table-result-container {\n",
       "    max-height: 300px;\n",
       "    overflow: auto;\n",
       "  }\n",
       "  table, th, td {\n",
       "    border: 1px solid black;\n",
       "    border-collapse: collapse;\n",
       "  }\n",
       "  th, td {\n",
       "    padding: 5px;\n",
       "  }\n",
       "  th {\n",
       "    text-align: left;\n",
       "  }\n",
       "</style><div class='table-result-container'><table class='table-result'><thead style='background-color: white'><tr><th>id</th><th>name</th><th>skills</th></tr></thead><tbody><tr><td>1</td><td>Akarsh</td><td>List(Java, sql)</td></tr><tr><td>2</td><td>Abhishek</td><td>List(Python, Snowflake)</td></tr></tbody></table></div>"
      ]
     },
     "metadata": {
      "application/vnd.databricks.v1+output": {
       "addedWidgets": {},
       "aggData": [],
       "aggError": "",
       "aggOverflow": false,
       "aggSchema": [],
       "aggSeriesLimitReached": false,
       "aggType": "",
       "arguments": {},
       "columnCustomDisplayInfos": {},
       "data": [
        [
         1,
         "Akarsh",
         [
          "Java",
          "sql"
         ]
        ],
        [
         2,
         "Abhishek",
         [
          "Python",
          "Snowflake"
         ]
        ]
       ],
       "datasetInfos": [],
       "dbfsResultPath": null,
       "isJsonSchema": true,
       "metadata": {},
       "overflow": false,
       "plotOptions": {
        "customPlotOptions": {},
        "displayType": "table",
        "pivotAggregation": null,
        "pivotColumns": null,
        "xColumns": null,
        "yColumns": null
       },
       "removedWidgets": [],
       "schema": [
        {
         "metadata": "{}",
         "name": "id",
         "type": "\"long\""
        },
        {
         "metadata": "{}",
         "name": "name",
         "type": "\"string\""
        },
        {
         "metadata": "{}",
         "name": "skills",
         "type": "{\"type\":\"array\",\"elementType\":\"string\",\"containsNull\":true}"
        }
       ],
       "type": "table"
      }
     },
     "output_type": "display_data"
    }
   ],
   "source": [
    "data=[(1,'Akarsh',['Java','sql']),(2,'Abhishek',['Python','Snowflake'])]\n",
    "\n",
    "schema = ['id','name','skills']\n",
    "\n",
    "df = spark.createDataFrame(data,schema)\n",
    "df.show()\n",
    "df.printSchema()\n",
    "display(df)"
   ]
  },
  {
   "cell_type": "code",
   "execution_count": 0,
   "metadata": {
    "application/vnd.databricks.v1+cell": {
     "cellMetadata": {
      "byteLimit": 2048000,
      "rowLimit": 10000
     },
     "inputWidgets": {},
     "nuid": "654cabe1-437b-44ce-bc6a-58866a12fb80",
     "showTitle": false,
     "title": ""
    }
   },
   "outputs": [
    {
     "output_type": "stream",
     "name": "stdout",
     "output_type": "stream",
     "text": [
      "+---+--------+-------------------+\n| id|    name|             skills|\n+---+--------+-------------------+\n|  1|  Akarsh|        [Java, sql]|\n|  2|Abhishek|[Python, Snowflake]|\n+---+--------+-------------------+\n\n+---+--------+-------------------+---------+\n| id|    name|             skills|    skill|\n+---+--------+-------------------+---------+\n|  1|  Akarsh|        [Java, sql]|     Java|\n|  1|  Akarsh|        [Java, sql]|      sql|\n|  2|Abhishek|[Python, Snowflake]|   Python|\n|  2|Abhishek|[Python, Snowflake]|Snowflake|\n+---+--------+-------------------+---------+\n\n"
     ]
    }
   ],
   "source": [
    "from pyspark.sql.functions import explode,col\n",
    "df.show()\n",
    "df1 = df.withColumn('skill',explode(col('skills')))\n",
    "df1.show()"
   ]
  },
  {
   "cell_type": "code",
   "execution_count": 0,
   "metadata": {
    "application/vnd.databricks.v1+cell": {
     "cellMetadata": {
      "byteLimit": 2048000,
      "rowLimit": 10000
     },
     "inputWidgets": {},
     "nuid": "403fbc01-0014-49ed-9741-9d82028ebe7b",
     "showTitle": false,
     "title": ""
    }
   },
   "outputs": [
    {
     "output_type": "stream",
     "name": "stdout",
     "output_type": "stream",
     "text": [
      "+---+--------+----------------+\n| id|    name|          skills|\n+---+--------+----------------+\n|  1|  Akarsh|        Java,sql|\n|  2|Abhishek|Python,Snowflake|\n+---+--------+----------------+\n\nroot\n |-- id: long (nullable = true)\n |-- name: string (nullable = true)\n |-- skills: string (nullable = true)\n\n"
     ]
    },
    {
     "output_type": "display_data",
     "data": {
      "text/html": [
       "<style scoped>\n",
       "  .table-result-container {\n",
       "    max-height: 300px;\n",
       "    overflow: auto;\n",
       "  }\n",
       "  table, th, td {\n",
       "    border: 1px solid black;\n",
       "    border-collapse: collapse;\n",
       "  }\n",
       "  th, td {\n",
       "    padding: 5px;\n",
       "  }\n",
       "  th {\n",
       "    text-align: left;\n",
       "  }\n",
       "</style><div class='table-result-container'><table class='table-result'><thead style='background-color: white'><tr><th>id</th><th>name</th><th>skills</th></tr></thead><tbody><tr><td>1</td><td>Akarsh</td><td>Java,sql</td></tr><tr><td>2</td><td>Abhishek</td><td>Python,Snowflake</td></tr></tbody></table></div>"
      ]
     },
     "metadata": {
      "application/vnd.databricks.v1+output": {
       "addedWidgets": {},
       "aggData": [],
       "aggError": "",
       "aggOverflow": false,
       "aggSchema": [],
       "aggSeriesLimitReached": false,
       "aggType": "",
       "arguments": {},
       "columnCustomDisplayInfos": {},
       "data": [
        [
         1,
         "Akarsh",
         "Java,sql"
        ],
        [
         2,
         "Abhishek",
         "Python,Snowflake"
        ]
       ],
       "datasetInfos": [],
       "dbfsResultPath": null,
       "isJsonSchema": true,
       "metadata": {},
       "overflow": false,
       "plotOptions": {
        "customPlotOptions": {},
        "displayType": "table",
        "pivotAggregation": null,
        "pivotColumns": null,
        "xColumns": null,
        "yColumns": null
       },
       "removedWidgets": [],
       "schema": [
        {
         "metadata": "{}",
         "name": "id",
         "type": "\"long\""
        },
        {
         "metadata": "{}",
         "name": "name",
         "type": "\"string\""
        },
        {
         "metadata": "{}",
         "name": "skills",
         "type": "\"string\""
        }
       ],
       "type": "table"
      }
     },
     "output_type": "display_data"
    }
   ],
   "source": [
    "data=[(1,'Akarsh','Java,sql'),(2,'Abhishek','Python,Snowflake')]\n",
    "\n",
    "schema = ['id','name','skills']\n",
    "\n",
    "df = spark.createDataFrame(data,schema)\n",
    "df.show()\n",
    "df.printSchema()\n",
    "display(df)"
   ]
  },
  {
   "cell_type": "code",
   "execution_count": 0,
   "metadata": {
    "application/vnd.databricks.v1+cell": {
     "cellMetadata": {
      "byteLimit": 2048000,
      "rowLimit": 10000
     },
     "inputWidgets": {},
     "nuid": "cc1a3296-7afb-4164-8616-e2d2dc162ddf",
     "showTitle": false,
     "title": ""
    }
   },
   "outputs": [
    {
     "output_type": "stream",
     "name": "stdout",
     "output_type": "stream",
     "text": [
      "+---+--------+----------------+\n| id|    name|          skills|\n+---+--------+----------------+\n|  1|  Akarsh|        Java,sql|\n|  2|Abhishek|Python,Snowflake|\n+---+--------+----------------+\n\n+---+--------+----------------+-------------------+\n| id|    name|          skills|        skillsArray|\n+---+--------+----------------+-------------------+\n|  1|  Akarsh|        Java,sql|        [Java, sql]|\n|  2|Abhishek|Python,Snowflake|[Python, Snowflake]|\n+---+--------+----------------+-------------------+\n\n"
     ]
    }
   ],
   "source": [
    "from pyspark.sql.functions import split,col\n",
    "df.show()\n",
    "df1 = df.withColumn('skillsArray',split(col('skills'),','))\n",
    "df1.show()"
   ]
  },
  {
   "cell_type": "code",
   "execution_count": 0,
   "metadata": {
    "application/vnd.databricks.v1+cell": {
     "cellMetadata": {
      "byteLimit": 2048000,
      "rowLimit": 10000
     },
     "inputWidgets": {},
     "nuid": "ed78e843-5eab-4ef5-84e9-df4c267b8b6c",
     "showTitle": false,
     "title": ""
    }
   },
   "outputs": [
    {
     "output_type": "stream",
     "name": "stdout",
     "output_type": "stream",
     "text": [
      "+---+--------+------------+--------------+\n| id|    name|Primaryskill|Secondaryskill|\n+---+--------+------------+--------------+\n|  1|  Akarsh|        Java|           sql|\n|  2|Abhishek|      Python|     Snowflake|\n+---+--------+------------+--------------+\n\nroot\n |-- id: long (nullable = true)\n |-- name: string (nullable = true)\n |-- Primaryskill: string (nullable = true)\n |-- Secondaryskill: string (nullable = true)\n\n"
     ]
    },
    {
     "output_type": "display_data",
     "data": {
      "text/html": [
       "<style scoped>\n",
       "  .table-result-container {\n",
       "    max-height: 300px;\n",
       "    overflow: auto;\n",
       "  }\n",
       "  table, th, td {\n",
       "    border: 1px solid black;\n",
       "    border-collapse: collapse;\n",
       "  }\n",
       "  th, td {\n",
       "    padding: 5px;\n",
       "  }\n",
       "  th {\n",
       "    text-align: left;\n",
       "  }\n",
       "</style><div class='table-result-container'><table class='table-result'><thead style='background-color: white'><tr><th>id</th><th>name</th><th>Primaryskill</th><th>Secondaryskill</th></tr></thead><tbody><tr><td>1</td><td>Akarsh</td><td>Java</td><td>sql</td></tr><tr><td>2</td><td>Abhishek</td><td>Python</td><td>Snowflake</td></tr></tbody></table></div>"
      ]
     },
     "metadata": {
      "application/vnd.databricks.v1+output": {
       "addedWidgets": {},
       "aggData": [],
       "aggError": "",
       "aggOverflow": false,
       "aggSchema": [],
       "aggSeriesLimitReached": false,
       "aggType": "",
       "arguments": {},
       "columnCustomDisplayInfos": {},
       "data": [
        [
         1,
         "Akarsh",
         "Java",
         "sql"
        ],
        [
         2,
         "Abhishek",
         "Python",
         "Snowflake"
        ]
       ],
       "datasetInfos": [],
       "dbfsResultPath": null,
       "isJsonSchema": true,
       "metadata": {},
       "overflow": false,
       "plotOptions": {
        "customPlotOptions": {},
        "displayType": "table",
        "pivotAggregation": null,
        "pivotColumns": null,
        "xColumns": null,
        "yColumns": null
       },
       "removedWidgets": [],
       "schema": [
        {
         "metadata": "{}",
         "name": "id",
         "type": "\"long\""
        },
        {
         "metadata": "{}",
         "name": "name",
         "type": "\"string\""
        },
        {
         "metadata": "{}",
         "name": "Primaryskill",
         "type": "\"string\""
        },
        {
         "metadata": "{}",
         "name": "Secondaryskill",
         "type": "\"string\""
        }
       ],
       "type": "table"
      }
     },
     "output_type": "display_data"
    }
   ],
   "source": [
    "data=[(1,'Akarsh','Java','sql'),(2,'Abhishek','Python','Snowflake')]\n",
    "\n",
    "schema = ['id','name','Primaryskill','Secondaryskill']\n",
    "\n",
    "df = spark.createDataFrame(data,schema)\n",
    "df.show()\n",
    "df.printSchema()\n",
    "display(df)"
   ]
  },
  {
   "cell_type": "code",
   "execution_count": 0,
   "metadata": {
    "application/vnd.databricks.v1+cell": {
     "cellMetadata": {
      "byteLimit": 2048000,
      "rowLimit": 10000
     },
     "inputWidgets": {},
     "nuid": "ab19d512-8584-4f72-a1e1-28b96e53aed9",
     "showTitle": false,
     "title": ""
    }
   },
   "outputs": [
    {
     "output_type": "stream",
     "name": "stdout",
     "output_type": "stream",
     "text": [
      "+---+--------+------------+--------------+\n| id|    name|Primaryskill|Secondaryskill|\n+---+--------+------------+--------------+\n|  1|  Akarsh|        Java|           sql|\n|  2|Abhishek|      Python|     Snowflake|\n+---+--------+------------+--------------+\n\n+---+--------+------------+--------------+-------------------+\n| id|    name|Primaryskill|Secondaryskill|        skillsArray|\n+---+--------+------------+--------------+-------------------+\n|  1|  Akarsh|        Java|           sql|        [Java, sql]|\n|  2|Abhishek|      Python|     Snowflake|[Python, Snowflake]|\n+---+--------+------------+--------------+-------------------+\n\n"
     ]
    }
   ],
   "source": [
    "from pyspark.sql.functions import array,col\n",
    "df.show()\n",
    "df1 = df.withColumn('skillsArray',array(col('Primaryskill'),col('Secondaryskill')))\n",
    "df1.show()"
   ]
  },
  {
   "cell_type": "code",
   "execution_count": 0,
   "metadata": {
    "application/vnd.databricks.v1+cell": {
     "cellMetadata": {
      "byteLimit": 2048000,
      "rowLimit": 10000
     },
     "inputWidgets": {},
     "nuid": "39dadd94-b57a-4cb3-85c4-3392ccd515f9",
     "showTitle": false,
     "title": ""
    }
   },
   "outputs": [
    {
     "output_type": "stream",
     "name": "stdout",
     "output_type": "stream",
     "text": [
      "+---+--------+-------------------+\n| id|    name|             skills|\n+---+--------+-------------------+\n|  1|  Akarsh|        [Java, sql]|\n|  2|Abhishek|[Python, Snowflake]|\n+---+--------+-------------------+\n\nroot\n |-- id: long (nullable = true)\n |-- name: string (nullable = true)\n |-- skills: array (nullable = true)\n |    |-- element: string (containsNull = true)\n\n"
     ]
    },
    {
     "output_type": "display_data",
     "data": {
      "text/html": [
       "<style scoped>\n",
       "  .table-result-container {\n",
       "    max-height: 300px;\n",
       "    overflow: auto;\n",
       "  }\n",
       "  table, th, td {\n",
       "    border: 1px solid black;\n",
       "    border-collapse: collapse;\n",
       "  }\n",
       "  th, td {\n",
       "    padding: 5px;\n",
       "  }\n",
       "  th {\n",
       "    text-align: left;\n",
       "  }\n",
       "</style><div class='table-result-container'><table class='table-result'><thead style='background-color: white'><tr><th>id</th><th>name</th><th>skills</th></tr></thead><tbody><tr><td>1</td><td>Akarsh</td><td>List(Java, sql)</td></tr><tr><td>2</td><td>Abhishek</td><td>List(Python, Snowflake)</td></tr></tbody></table></div>"
      ]
     },
     "metadata": {
      "application/vnd.databricks.v1+output": {
       "addedWidgets": {},
       "aggData": [],
       "aggError": "",
       "aggOverflow": false,
       "aggSchema": [],
       "aggSeriesLimitReached": false,
       "aggType": "",
       "arguments": {},
       "columnCustomDisplayInfos": {},
       "data": [
        [
         1,
         "Akarsh",
         [
          "Java",
          "sql"
         ]
        ],
        [
         2,
         "Abhishek",
         [
          "Python",
          "Snowflake"
         ]
        ]
       ],
       "datasetInfos": [],
       "dbfsResultPath": null,
       "isJsonSchema": true,
       "metadata": {},
       "overflow": false,
       "plotOptions": {
        "customPlotOptions": {},
        "displayType": "table",
        "pivotAggregation": null,
        "pivotColumns": null,
        "xColumns": null,
        "yColumns": null
       },
       "removedWidgets": [],
       "schema": [
        {
         "metadata": "{}",
         "name": "id",
         "type": "\"long\""
        },
        {
         "metadata": "{}",
         "name": "name",
         "type": "\"string\""
        },
        {
         "metadata": "{}",
         "name": "skills",
         "type": "{\"type\":\"array\",\"elementType\":\"string\",\"containsNull\":true}"
        }
       ],
       "type": "table"
      }
     },
     "output_type": "display_data"
    }
   ],
   "source": [
    "data=[(1,'Akarsh',['Java','sql']),(2,'Abhishek',['Python','Snowflake'])]\n",
    "\n",
    "schema = ['id','name','skills']\n",
    "\n",
    "df = spark.createDataFrame(data,schema)\n",
    "df.show()\n",
    "df.printSchema()\n",
    "display(df)"
   ]
  },
  {
   "cell_type": "code",
   "execution_count": 0,
   "metadata": {
    "application/vnd.databricks.v1+cell": {
     "cellMetadata": {
      "byteLimit": 2048000,
      "rowLimit": 10000
     },
     "inputWidgets": {},
     "nuid": "61fac803-681a-4f17-9f9c-2cf2c52be6a8",
     "showTitle": false,
     "title": ""
    }
   },
   "outputs": [
    {
     "output_type": "stream",
     "name": "stdout",
     "output_type": "stream",
     "text": [
      "+---+--------+-------------------+\n| id|    name|             skills|\n+---+--------+-------------------+\n|  1|  Akarsh|        [Java, sql]|\n|  2|Abhishek|[Python, Snowflake]|\n+---+--------+-------------------+\n\n+---+--------+-------------------+-------------+\n| id|    name|             skills|HasJavaskills|\n+---+--------+-------------------+-------------+\n|  1|  Akarsh|        [Java, sql]|         true|\n|  2|Abhishek|[Python, Snowflake]|        false|\n+---+--------+-------------------+-------------+\n\n"
     ]
    }
   ],
   "source": [
    "from pyspark.sql.functions import array_contains,col\n",
    "df.show()\n",
    "df1 = df.withColumn('HasJavaskills',array_contains(col('skills'),'Java'))\n",
    "df1.show()"
   ]
  },
  {
   "cell_type": "code",
   "execution_count": 0,
   "metadata": {
    "application/vnd.databricks.v1+cell": {
     "cellMetadata": {},
     "inputWidgets": {},
     "nuid": "fdac7bc2-c6e5-49db-a298-3a4d503d5223",
     "showTitle": false,
     "title": ""
    }
   },
   "outputs": [],
   "source": []
  }
 ],
 "metadata": {
  "application/vnd.databricks.v1+notebook": {
   "dashboards": [],
   "language": "python",
   "notebookMetadata": {
    "pythonIndentUnit": 4
   },
   "notebookName": "ArrayTypeFunctionsNotebook",
   "widgets": {}
  }
 },
 "nbformat": 4,
 "nbformat_minor": 0
}
