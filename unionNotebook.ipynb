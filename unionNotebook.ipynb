{
 "cells": [
  {
   "cell_type": "code",
   "execution_count": 0,
   "metadata": {
    "application/vnd.databricks.v1+cell": {
     "cellMetadata": {
      "byteLimit": 2048000,
      "rowLimit": 10000
     },
     "inputWidgets": {},
     "nuid": "e8a7604b-82f8-4e02-98a9-eec0cee7cf93",
     "showTitle": false,
     "title": ""
    }
   },
   "outputs": [
    {
     "output_type": "stream",
     "name": "stdout",
     "output_type": "stream",
     "text": [
      "+---+------+------+------+----------+\n| id|  name|gender|salary|department|\n+---+------+------+------+----------+\n|  1|  Ashu|  male| 20000|        IT|\n|  2|Swetha|female| 40000|        HR|\n+---+------+------+------+----------+\n\n+---+-----+------+------+----------+\n| id| name|gender|salary|department|\n+---+-----+------+------+----------+\n|  1| Ashu|  male| 20000|        IT|\n|  3|  Asi|female| 50000|        IT|\n|  4|Atlee|  male|  6000|   Payroll|\n+---+-----+------+------+----------+\n\n+---+------+------+------+----------+\n| id|  name|gender|salary|department|\n+---+------+------+------+----------+\n|  1|  Ashu|  male| 20000|        IT|\n|  2|Swetha|female| 40000|        HR|\n|  1|  Ashu|  male| 20000|        IT|\n|  3|   Asi|female| 50000|        IT|\n|  4| Atlee|  male|  6000|   Payroll|\n+---+------+------+------+----------+\n\n"
     ]
    }
   ],
   "source": [
    "data1 = [(1,'Ashu','male',20000,'IT'),(2,'Swetha','female',40000,'HR')]\n",
    "schema1=['id','name','gender','salary','department']\n",
    "\n",
    "data2 = [(1,'Ashu','male',20000,'IT'),(3,'Asi','female',50000,'IT'),(4,'Atlee','male',6000,'Payroll')]\n",
    "schema2=['id','name','gender','salary','department']\n",
    "\n",
    "df1=spark.createDataFrame(data1,schema1)\n",
    "df2=spark.createDataFrame(data2,schema2)\n",
    "\n",
    "df1.show()\n",
    "df2.show()\n",
    "\n",
    "newDF=df1.union(df2) # when use union function it is not delete duplicate value.\n",
    "newDF.show()"
   ]
  },
  {
   "cell_type": "code",
   "execution_count": 0,
   "metadata": {
    "application/vnd.databricks.v1+cell": {
     "cellMetadata": {
      "byteLimit": 2048000,
      "rowLimit": 10000
     },
     "inputWidgets": {},
     "nuid": "ffa54b91-c606-4360-a502-5df0cd9ff875",
     "showTitle": false,
     "title": ""
    }
   },
   "outputs": [
    {
     "output_type": "stream",
     "name": "stdout",
     "output_type": "stream",
     "text": [
      "+---+------+------+------+----------+\n| id|  name|gender|salary|department|\n+---+------+------+------+----------+\n|  1|  Ashu|  male| 20000|        IT|\n|  2|Swetha|female| 40000|        HR|\n|  1|  Ashu|  male| 20000|        IT|\n|  3|   Asi|female| 50000|        IT|\n|  4| Atlee|  male|  6000|   Payroll|\n+---+------+------+------+----------+\n\n+---+------+------+------+----------+\n| id|  name|gender|salary|department|\n+---+------+------+------+----------+\n|  1|  Ashu|  male| 20000|        IT|\n|  2|Swetha|female| 40000|        HR|\n|  3|   Asi|female| 50000|        IT|\n|  4| Atlee|  male|  6000|   Payroll|\n+---+------+------+------+----------+\n\n"
     ]
    }
   ],
   "source": [
    "newDF1=df1.unionAll(df2) # It is also working like union function\n",
    "newDF1.show()\n",
    "\n",
    "newDF1.distinct().show() #when we want to get unique value we will use distinct function"
   ]
  },
  {
   "cell_type": "code",
   "execution_count": 0,
   "metadata": {
    "application/vnd.databricks.v1+cell": {
     "cellMetadata": {},
     "inputWidgets": {},
     "nuid": "bbe05058-7938-431e-ae29-c2b99cc6ee91",
     "showTitle": false,
     "title": ""
    }
   },
   "outputs": [],
   "source": []
  }
 ],
 "metadata": {
  "application/vnd.databricks.v1+notebook": {
   "dashboards": [],
   "language": "python",
   "notebookMetadata": {
    "pythonIndentUnit": 4
   },
   "notebookName": "unionNotebook",
   "widgets": {}
  }
 },
 "nbformat": 4,
 "nbformat_minor": 0
}
