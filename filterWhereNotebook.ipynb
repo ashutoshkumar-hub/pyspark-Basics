{
 "cells": [
  {
   "cell_type": "code",
   "execution_count": 0,
   "metadata": {
    "application/vnd.databricks.v1+cell": {
     "cellMetadata": {
      "byteLimit": 2048000,
      "rowLimit": 10000
     },
     "inputWidgets": {},
     "nuid": "7a179e09-8c3f-4dca-a94a-8eb1907357e4",
     "showTitle": false,
     "title": ""
    }
   },
   "outputs": [
    {
     "output_type": "stream",
     "name": "stdout",
     "output_type": "stream",
     "text": [
      "+---+------+------+------+\n| id|  name|gender|salary|\n+---+------+------+------+\n|  1|  Ashu|  male| 20000|\n|  2|Swetha|female| 40000|\n|  3|   Asi|female| 50000|\n|  4| Atlee|  male|  6000|\n+---+------+------+------+\n\nroot\n |-- id: long (nullable = true)\n |-- name: string (nullable = true)\n |-- gender: string (nullable = true)\n |-- salary: long (nullable = true)\n\n"
     ]
    }
   ],
   "source": [
    "data = [(1,'Ashu','male',20000),(2,'Swetha','female',40000),(3,'Asi','female',50000),(4,'Atlee','male',6000)]\n",
    "\n",
    "schema=['id','name','gender','salary']\n",
    "\n",
    "df = spark.createDataFrame(data,schema)\n",
    "\n",
    "df.show()\n",
    "df.printSchema()"
   ]
  },
  {
   "cell_type": "code",
   "execution_count": 0,
   "metadata": {
    "application/vnd.databricks.v1+cell": {
     "cellMetadata": {
      "byteLimit": 2048000,
      "rowLimit": 10000
     },
     "inputWidgets": {},
     "nuid": "5a661f1c-4434-4620-9bc6-871aa6f8f526",
     "showTitle": false,
     "title": ""
    }
   },
   "outputs": [
    {
     "output_type": "stream",
     "name": "stdout",
     "output_type": "stream",
     "text": [
      "+---+-----+------+------+\n| id| name|gender|salary|\n+---+-----+------+------+\n|  1| Ashu|  male| 20000|\n|  4|Atlee|  male|  6000|\n+---+-----+------+------+\n\n+---+-----+------+------+\n| id| name|gender|salary|\n+---+-----+------+------+\n|  1| Ashu|  male| 20000|\n|  4|Atlee|  male|  6000|\n+---+-----+------+------+\n\n"
     ]
    }
   ],
   "source": [
    "df.filter(df.gender=='male').show() #method 1\n",
    "df.filter(\"gender='male'\").show() #method 2"
   ]
  },
  {
   "cell_type": "code",
   "execution_count": 0,
   "metadata": {
    "application/vnd.databricks.v1+cell": {
     "cellMetadata": {
      "byteLimit": 2048000,
      "rowLimit": 10000
     },
     "inputWidgets": {},
     "nuid": "b5fe8523-569f-4b79-b2e8-ba307e304bb0",
     "showTitle": false,
     "title": ""
    }
   },
   "outputs": [
    {
     "output_type": "stream",
     "name": "stdout",
     "output_type": "stream",
     "text": [
      "+---+----+------+------+\n| id|name|gender|salary|\n+---+----+------+------+\n|  1|Ashu|  male| 20000|\n+---+----+------+------+\n\n"
     ]
    }
   ],
   "source": [
    "df.where((df.gender=='male') & (df.salary==20000)).show()"
   ]
  },
  {
   "cell_type": "code",
   "execution_count": 0,
   "metadata": {
    "application/vnd.databricks.v1+cell": {
     "cellMetadata": {},
     "inputWidgets": {},
     "nuid": "0bf8d004-ea5c-4b8b-94e8-ecb7b54d102a",
     "showTitle": false,
     "title": ""
    }
   },
   "outputs": [],
   "source": []
  }
 ],
 "metadata": {
  "application/vnd.databricks.v1+notebook": {
   "dashboards": [],
   "language": "python",
   "notebookMetadata": {
    "pythonIndentUnit": 4
   },
   "notebookName": "filterWhereNotebook",
   "widgets": {}
  }
 },
 "nbformat": 4,
 "nbformat_minor": 0
}
