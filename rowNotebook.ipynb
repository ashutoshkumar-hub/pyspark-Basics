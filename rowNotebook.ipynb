{
 "cells": [
  {
   "cell_type": "code",
   "execution_count": 0,
   "metadata": {
    "application/vnd.databricks.v1+cell": {
     "cellMetadata": {
      "byteLimit": 2048000,
      "rowLimit": 10000
     },
     "inputWidgets": {},
     "nuid": "c88367b9-aa2e-4486-a241-4d17468fdc29",
     "showTitle": false,
     "title": ""
    }
   },
   "outputs": [
    {
     "output_type": "stream",
     "name": "stdout",
     "output_type": "stream",
     "text": [
      "Abhi 50000\n"
     ]
    }
   ],
   "source": [
    "from pyspark.sql import Row\n",
    "row = Row('Abhi',50000)\n",
    "print(row[0] + ' ' + str(row[1]))"
   ]
  },
  {
   "cell_type": "code",
   "execution_count": 0,
   "metadata": {
    "application/vnd.databricks.v1+cell": {
     "cellMetadata": {
      "byteLimit": 2048000,
      "rowLimit": 10000
     },
     "inputWidgets": {},
     "nuid": "9714da66-dc33-4e13-abe5-aa1c9cf41a8f",
     "showTitle": false,
     "title": ""
    }
   },
   "outputs": [
    {
     "output_type": "stream",
     "name": "stdout",
     "output_type": "stream",
     "text": [
      "Abhi 50000\n"
     ]
    }
   ],
   "source": [
    "from pyspark.sql import Row\n",
    "row = Row(name='Abhi',salary=50000)\n",
    "print(row.name + ' ' + str(row.salary))"
   ]
  },
  {
   "cell_type": "code",
   "execution_count": 0,
   "metadata": {
    "application/vnd.databricks.v1+cell": {
     "cellMetadata": {
      "byteLimit": 2048000,
      "rowLimit": 10000
     },
     "inputWidgets": {},
     "nuid": "52ba3721-1be0-4e8a-b6b3-1d349168de2f",
     "showTitle": false,
     "title": ""
    }
   },
   "outputs": [
    {
     "output_type": "stream",
     "name": "stdout",
     "output_type": "stream",
     "text": [
      "+----+------+\n|name|salary|\n+----+------+\n|Abhi| 50000|\n| Avi| 60000|\n+----+------+\n\n"
     ]
    }
   ],
   "source": [
    "from pyspark.sql import Row\n",
    "row1 = Row(name='Abhi',salary=50000)\n",
    "row2 = Row(name='Avi',salary=60000)\n",
    "data = [row1,row2]\n",
    "df = spark.createDataFrame(data)\n",
    "df.show()"
   ]
  },
  {
   "cell_type": "code",
   "execution_count": 0,
   "metadata": {
    "application/vnd.databricks.v1+cell": {
     "cellMetadata": {
      "byteLimit": 2048000,
      "rowLimit": 10000
     },
     "inputWidgets": {},
     "nuid": "8d70cacd-9f34-4093-a5dd-fa86ad607d54",
     "showTitle": false,
     "title": ""
    }
   },
   "outputs": [
    {
     "output_type": "stream",
     "name": "stdout",
     "output_type": "stream",
     "text": [
      "+----+---+\n|  _1| _2|\n+----+---+\n|Abhi| 25|\n| Avi|  6|\n+----+---+\n\n"
     ]
    }
   ],
   "source": [
    "Person = ('name','age')\n",
    "person1 = ('Abhi',25)\n",
    "person2 = ('Avi',6)\n",
    "\n",
    "personDF = spark.createDataFrame([person1,person2])\n",
    "personDF.show()"
   ]
  },
  {
   "cell_type": "code",
   "execution_count": 0,
   "metadata": {
    "application/vnd.databricks.v1+cell": {
     "cellMetadata": {
      "byteLimit": 2048000,
      "rowLimit": 10000
     },
     "inputWidgets": {},
     "nuid": "e6880649-2c01-4496-b89f-69827b04ee81",
     "showTitle": false,
     "title": ""
    }
   },
   "outputs": [
    {
     "output_type": "stream",
     "name": "stdout",
     "output_type": "stream",
     "text": [
      "+-----+---------------+\n| name|           prop|\n+-----+---------------+\n| abhi|  {male, 30000}|\n|pargs|{female, 40000}|\n+-----+---------------+\n\nroot\n |-- name: string (nullable = true)\n |-- prop: struct (nullable = true)\n |    |-- gender: string (nullable = true)\n |    |-- salary: long (nullable = true)\n\n"
     ]
    }
   ],
   "source": [
    "# struct type row class\n",
    "\n",
    "data = [Row(name='abhi',prop=Row(gender='male',salary=30000)),\\\n",
    "    Row(name='pargs',prop=Row(gender='female',salary=40000))]\n",
    "\n",
    "df = spark.createDataFrame(data)\n",
    "df.show()\n",
    "df.printSchema()\n"
   ]
  },
  {
   "cell_type": "code",
   "execution_count": 0,
   "metadata": {
    "application/vnd.databricks.v1+cell": {
     "cellMetadata": {},
     "inputWidgets": {},
     "nuid": "0274e234-380a-49ba-866e-4a7a7e2ab8ca",
     "showTitle": false,
     "title": ""
    }
   },
   "outputs": [],
   "source": []
  }
 ],
 "metadata": {
  "application/vnd.databricks.v1+notebook": {
   "dashboards": [],
   "language": "python",
   "notebookMetadata": {
    "pythonIndentUnit": 4
   },
   "notebookName": "rowNotebook",
   "widgets": {}
  }
 },
 "nbformat": 4,
 "nbformat_minor": 0
}
