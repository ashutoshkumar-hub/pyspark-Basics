{
 "cells": [
  {
   "cell_type": "code",
   "execution_count": 0,
   "metadata": {
    "application/vnd.databricks.v1+cell": {
     "cellMetadata": {
      "byteLimit": 2048000,
      "rowLimit": 10000
     },
     "inputWidgets": {},
     "nuid": "0f90d42c-ac46-4c00-b539-79446d3aef0f",
     "showTitle": false,
     "title": ""
    }
   },
   "outputs": [
    {
     "output_type": "stream",
     "name": "stdout",
     "output_type": "stream",
     "text": [
      "+------+-----------------------------+\n|name  |properties                   |\n+------+-----------------------------+\n|Avi   |{eye -> brown, hair -> black}|\n|Rounak|{eye -> blue, hair -> black} |\n+------+-----------------------------+\n\n"
     ]
    },
    {
     "output_type": "display_data",
     "data": {
      "text/html": [
       "<style scoped>\n",
       "  .table-result-container {\n",
       "    max-height: 300px;\n",
       "    overflow: auto;\n",
       "  }\n",
       "  table, th, td {\n",
       "    border: 1px solid black;\n",
       "    border-collapse: collapse;\n",
       "  }\n",
       "  th, td {\n",
       "    padding: 5px;\n",
       "  }\n",
       "  th {\n",
       "    text-align: left;\n",
       "  }\n",
       "</style><div class='table-result-container'><table class='table-result'><thead style='background-color: white'><tr><th>name</th><th>properties</th></tr></thead><tbody><tr><td>Avi</td><td>Map(eye -> brown, hair -> black)</td></tr><tr><td>Rounak</td><td>Map(eye -> blue, hair -> black)</td></tr></tbody></table></div>"
      ]
     },
     "metadata": {
      "application/vnd.databricks.v1+output": {
       "addedWidgets": {},
       "aggData": [],
       "aggError": "",
       "aggOverflow": false,
       "aggSchema": [],
       "aggSeriesLimitReached": false,
       "aggType": "",
       "arguments": {},
       "columnCustomDisplayInfos": {},
       "data": [
        [
         "Avi",
         {
          "eye": "brown",
          "hair": "black"
         }
        ],
        [
         "Rounak",
         {
          "eye": "blue",
          "hair": "black"
         }
        ]
       ],
       "datasetInfos": [],
       "dbfsResultPath": null,
       "isJsonSchema": true,
       "metadata": {},
       "overflow": false,
       "plotOptions": {
        "customPlotOptions": {},
        "displayType": "table",
        "pivotAggregation": null,
        "pivotColumns": null,
        "xColumns": null,
        "yColumns": null
       },
       "removedWidgets": [],
       "schema": [
        {
         "metadata": "{}",
         "name": "name",
         "type": "\"string\""
        },
        {
         "metadata": "{}",
         "name": "properties",
         "type": "{\"type\":\"map\",\"keyType\":\"string\",\"valueType\":\"string\",\"valueContainsNull\":true}"
        }
       ],
       "type": "table"
      }
     },
     "output_type": "display_data"
    },
    {
     "output_type": "stream",
     "name": "stdout",
     "output_type": "stream",
     "text": [
      "root\n |-- name: string (nullable = true)\n |-- properties: map (nullable = true)\n |    |-- key: string\n |    |-- value: string (valueContainsNull = true)\n\n"
     ]
    }
   ],
   "source": [
    "from pyspark.sql.types import StringType, StructType, StructField, MapType\n",
    "data = [('Avi',{'eye':'brown','hair':'black'}),('Rounak',{'eye':'blue','hair':'black'})]\n",
    "\n",
    "schema = StructType([\\\n",
    "    StructField('name',StringType()),\\\n",
    "    StructField('properties',MapType(StringType(),StringType()))])\n",
    "df = spark.createDataFrame(data,schema)\n",
    "df.show(truncate=False)\n",
    "display(df)\n",
    "df.printSchema()"
   ]
  },
  {
   "cell_type": "code",
   "execution_count": 0,
   "metadata": {
    "application/vnd.databricks.v1+cell": {
     "cellMetadata": {
      "byteLimit": 2048000,
      "rowLimit": 10000
     },
     "inputWidgets": {},
     "nuid": "74ec5a4e-7abe-4e05-a6f8-c616da4614b4",
     "showTitle": false,
     "title": ""
    }
   },
   "outputs": [
    {
     "output_type": "stream",
     "name": "stdout",
     "output_type": "stream",
     "text": [
      "+------+-----------------------------+-----+\n|name  |properties                   |hair |\n+------+-----------------------------+-----+\n|Avi   |{eye -> brown, hair -> black}|black|\n|Rounak|{eye -> blue, hair -> black} |black|\n+------+-----------------------------+-----+\n\n+------+-----------------------------+-----+-----+\n|name  |properties                   |hair |eye  |\n+------+-----------------------------+-----+-----+\n|Avi   |{eye -> brown, hair -> black}|black|brown|\n|Rounak|{eye -> blue, hair -> black} |black|blue |\n+------+-----------------------------+-----+-----+\n\n"
     ]
    }
   ],
   "source": [
    "df1 = df.withColumn('hair',df.properties['hair'])\n",
    "df1.show(truncate=False)\n",
    "\n",
    "df2 = df1.withColumn('eye',df.properties.getItem('eye'))\n",
    "df2.show(truncate=False)"
   ]
  },
  {
   "cell_type": "code",
   "execution_count": 0,
   "metadata": {
    "application/vnd.databricks.v1+cell": {
     "cellMetadata": {
      "byteLimit": 2048000,
      "rowLimit": 10000
     },
     "inputWidgets": {},
     "nuid": "8587d930-2f74-4e30-ace8-77699146ed99",
     "showTitle": false,
     "title": ""
    }
   },
   "outputs": [
    {
     "output_type": "stream",
     "name": "stdout",
     "output_type": "stream",
     "text": [
      "+------+-----------------------------+----+-----+\n|name  |properties                   |key |value|\n+------+-----------------------------+----+-----+\n|Avi   |{eye -> brown, hair -> black}|eye |brown|\n|Avi   |{eye -> brown, hair -> black}|hair|black|\n|Rounak|{eye -> blue, hair -> black} |eye |blue |\n|Rounak|{eye -> blue, hair -> black} |hair|black|\n+------+-----------------------------+----+-----+\n\n"
     ]
    }
   ],
   "source": [
    "#explode() functions\n",
    "\n",
    "from pyspark.sql.functions import explode\n",
    "\n",
    "df4=df.select('name','properties',explode(df.properties))\n",
    "df4.show(truncate=False)"
   ]
  },
  {
   "cell_type": "code",
   "execution_count": 0,
   "metadata": {
    "application/vnd.databricks.v1+cell": {
     "cellMetadata": {
      "byteLimit": 2048000,
      "rowLimit": 10000
     },
     "inputWidgets": {},
     "nuid": "e4c79093-da5f-44a3-978b-6d53bef9af7c",
     "showTitle": false,
     "title": ""
    }
   },
   "outputs": [
    {
     "output_type": "stream",
     "name": "stdout",
     "output_type": "stream",
     "text": [
      "+------+-----------------------------+-----------+\n|name  |properties                   |keys       |\n+------+-----------------------------+-----------+\n|Avi   |{eye -> brown, hair -> black}|[eye, hair]|\n|Rounak|{eye -> blue, hair -> black} |[eye, hair]|\n+------+-----------------------------+-----------+\n\n"
     ]
    }
   ],
   "source": [
    "#map_keys() functions\n",
    "\n",
    "from pyspark.sql.functions import map_keys\n",
    "\n",
    "df5=df.withColumn('keys',map_keys(df.properties))\n",
    "df5.show(truncate=False)"
   ]
  },
  {
   "cell_type": "code",
   "execution_count": 0,
   "metadata": {
    "application/vnd.databricks.v1+cell": {
     "cellMetadata": {
      "byteLimit": 2048000,
      "rowLimit": 10000
     },
     "inputWidgets": {},
     "nuid": "0f23322a-6969-48ef-8b6d-63be158d97e9",
     "showTitle": false,
     "title": ""
    }
   },
   "outputs": [
    {
     "output_type": "stream",
     "name": "stdout",
     "output_type": "stream",
     "text": [
      "+------+-----------------------------+--------------+\n|name  |properties                   |values        |\n+------+-----------------------------+--------------+\n|Avi   |{eye -> brown, hair -> black}|[brown, black]|\n|Rounak|{eye -> blue, hair -> black} |[blue, black] |\n+------+-----------------------------+--------------+\n\n"
     ]
    }
   ],
   "source": [
    "#map_values() functions\n",
    "\n",
    "from pyspark.sql.functions import map_values\n",
    "\n",
    "df5=df.withColumn('values',map_values(df.properties))\n",
    "df5.show(truncate=False)"
   ]
  },
  {
   "cell_type": "code",
   "execution_count": 0,
   "metadata": {
    "application/vnd.databricks.v1+cell": {
     "cellMetadata": {},
     "inputWidgets": {},
     "nuid": "65df2d3c-8cee-43d9-867d-d77c35abd070",
     "showTitle": false,
     "title": ""
    }
   },
   "outputs": [],
   "source": []
  }
 ],
 "metadata": {
  "application/vnd.databricks.v1+notebook": {
   "dashboards": [],
   "language": "python",
   "notebookMetadata": {
    "pythonIndentUnit": 4
   },
   "notebookName": "MapTypeNotebook",
   "widgets": {}
  }
 },
 "nbformat": 4,
 "nbformat_minor": 0
}
