{
 "cells": [
  {
   "cell_type": "code",
   "execution_count": 0,
   "metadata": {
    "application/vnd.databricks.v1+cell": {
     "cellMetadata": {
      "byteLimit": 2048000,
      "rowLimit": 10000
     },
     "inputWidgets": {},
     "nuid": "80bcfb10-c7bb-4a74-962c-174092da1558",
     "showTitle": false,
     "title": ""
    }
   },
   "outputs": [
    {
     "output_type": "stream",
     "name": "stdout",
     "output_type": "stream",
     "text": [
      "root\n |-- id: long (nullable = true)\n |-- name: string (nullable = true)\n\n+---+------+\n| id|  name|\n+---+------+\n|  1|  Ashu|\n|  2|Swetha|\n+---+------+\n\n"
     ]
    }
   ],
   "source": [
    "# Read single line json file \n",
    "df = spark.read.json(path='dbfs:/FileStore/data/Emp-1.json')\n",
    "df.printSchema()\n",
    "df.show()"
   ]
  },
  {
   "cell_type": "code",
   "execution_count": 0,
   "metadata": {
    "application/vnd.databricks.v1+cell": {
     "cellMetadata": {
      "byteLimit": 2048000,
      "rowLimit": 10000
     },
     "inputWidgets": {},
     "nuid": "84ca2d65-b16f-4bdd-9b72-67dc4535e8de",
     "showTitle": false,
     "title": ""
    }
   },
   "outputs": [
    {
     "output_type": "stream",
     "name": "stdout",
     "output_type": "stream",
     "text": [
      "root\n |-- id: long (nullable = true)\n |-- location: string (nullable = true)\n |-- name: string (nullable = true)\n\n+---+--------+------+\n| id|location|  name|\n+---+--------+------+\n|  1|   Noida|  Ashu|\n|  2|Banglore|Swetha|\n+---+--------+------+\n\n"
     ]
    }
   ],
   "source": [
    "#Read multi line json file \n",
    "df = spark.read.json(path='dbfs:/FileStore/data/EmpMilti.json',multiLine=True)\n",
    "df.printSchema()\n",
    "df.show()"
   ]
  },
  {
   "cell_type": "code",
   "execution_count": 0,
   "metadata": {
    "application/vnd.databricks.v1+cell": {
     "cellMetadata": {
      "byteLimit": 2048000,
      "rowLimit": 10000
     },
     "inputWidgets": {},
     "nuid": "8f1208e7-cea2-4667-83e0-f4442c3e4692",
     "showTitle": false,
     "title": ""
    }
   },
   "outputs": [
    {
     "output_type": "stream",
     "name": "stdout",
     "output_type": "stream",
     "text": [
      "root\n |-- id: long (nullable = true)\n |-- name: string (nullable = true)\n\n+---+------+\n| id|  name|\n+---+------+\n|  1|  Ashu|\n|  2|Swetha|\n|  1|  Ashu|\n|  2|Swetha|\n+---+------+\n\n"
     ]
    }
   ],
   "source": [
    "# Read multiple files from multiple location\n",
    "df = spark.read.json(path=['dbfs:/FileStore/data/Emp-1.json','dbfs:/FileStore/data1/Emp.json'])\n",
    "df.printSchema()\n",
    "df.show()"
   ]
  },
  {
   "cell_type": "code",
   "execution_count": 0,
   "metadata": {
    "application/vnd.databricks.v1+cell": {
     "cellMetadata": {
      "byteLimit": 2048000,
      "rowLimit": 10000
     },
     "inputWidgets": {},
     "nuid": "515ffbbb-a530-4d0e-a989-090aac59bf5b",
     "showTitle": false,
     "title": ""
    }
   },
   "outputs": [
    {
     "output_type": "stream",
     "name": "stdout",
     "output_type": "stream",
     "text": [
      "root\n |-- id: long (nullable = true)\n |-- name: string (nullable = true)\n\n+---+------+\n| id|  name|\n+---+------+\n|  1|  Ashu|\n|  2|Swetha|\n|  1|  Ashu|\n|  2|Swetha|\n+---+------+\n\n"
     ]
    }
   ],
   "source": [
    "# Read all json files\n",
    "df = spark.read.json(path='dbfs:/FileStore/json/*.json')                     \n",
    "df.printSchema()\n",
    "df.show()"
   ]
  },
  {
   "cell_type": "code",
   "execution_count": 0,
   "metadata": {
    "application/vnd.databricks.v1+cell": {
     "cellMetadata": {},
     "inputWidgets": {},
     "nuid": "40343a59-360c-407b-babc-b8fe6e8c3926",
     "showTitle": false,
     "title": ""
    }
   },
   "outputs": [],
   "source": []
  }
 ],
 "metadata": {
  "application/vnd.databricks.v1+notebook": {
   "dashboards": [],
   "language": "python",
   "notebookMetadata": {
    "pythonIndentUnit": 4
   },
   "notebookName": "readJsonintoDF",
   "widgets": {}
  }
 },
 "nbformat": 4,
 "nbformat_minor": 0
}
