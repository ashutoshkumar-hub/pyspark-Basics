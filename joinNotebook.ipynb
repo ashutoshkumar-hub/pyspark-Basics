{
 "cells": [
  {
   "cell_type": "code",
   "execution_count": 0,
   "metadata": {
    "application/vnd.databricks.v1+cell": {
     "cellMetadata": {
      "byteLimit": 2048000,
      "rowLimit": 10000
     },
     "inputWidgets": {},
     "nuid": "60d139d7-9aab-4060-b1f0-83c73bbf747a",
     "showTitle": false,
     "title": ""
    }
   },
   "outputs": [
    {
     "output_type": "stream",
     "name": "stdout",
     "output_type": "stream",
     "text": [
      "+---+------+------+------+---+\n| id|  name|gender|salary|dep|\n+---+------+------+------+---+\n|  1|  Ashu|  male| 20000|  2|\n|  2|Swetha|female| 40000|  1|\n|  3|   Asi|female| 40000|  4|\n+---+------+------+------+---+\n\n+---+-------+\n| id|   name|\n+---+-------+\n|  1|     IT|\n|  2|     HR|\n|  3|Payroll|\n+---+-------+\n\n+---+------+------+------+---+---+----+\n| id|  name|gender|salary|dep| id|name|\n+---+------+------+------+---+---+----+\n|  2|Swetha|female| 40000|  1|  1|  IT|\n|  1|  Ashu|  male| 20000|  2|  2|  HR|\n+---+------+------+------+---+---+----+\n\n+---+------+------+------+---+----+----+\n| id|  name|gender|salary|dep|  id|name|\n+---+------+------+------+---+----+----+\n|  1|  Ashu|  male| 20000|  2|   2|  HR|\n|  2|Swetha|female| 40000|  1|   1|  IT|\n|  3|   Asi|female| 40000|  4|null|null|\n+---+------+------+------+---+----+----+\n\n+----+------+------+------+----+---+-------+\n|  id|  name|gender|salary| dep| id|   name|\n+----+------+------+------+----+---+-------+\n|   2|Swetha|female| 40000|   1|  1|     IT|\n|   1|  Ashu|  male| 20000|   2|  2|     HR|\n|null|  null|  null|  null|null|  3|Payroll|\n+----+------+------+------+----+---+-------+\n\n+----+------+------+------+----+----+-------+\n|  id|  name|gender|salary| dep|  id|   name|\n+----+------+------+------+----+----+-------+\n|   2|Swetha|female| 40000|   1|   1|     IT|\n|   1|  Ashu|  male| 20000|   2|   2|     HR|\n|null|  null|  null|  null|null|   3|Payroll|\n|   3|   Asi|female| 40000|   4|null|   null|\n+----+------+------+------+----+----+-------+\n\n"
     ]
    }
   ],
   "source": [
    "data1 = [(1,'Ashu','male',20000,2),(2,'Swetha','female',40000,1),(3,'Asi','female',40000,4)]\n",
    "schema1= ['id','name','gender','salary','dep']\n",
    "\n",
    "data2 = [(1,'IT'),(2,'HR'),(3,'Payroll')]\n",
    "schema2 = ['id','name']\n",
    "\n",
    "empDf = spark.createDataFrame(data1,schema1)\n",
    "depDf = spark.createDataFrame(data2,schema2)\n",
    "empDf.show()\n",
    "depDf.show()\n",
    "\n",
    "empDf.join(depDf, empDf.dep==depDf.id,'inner').show()\n",
    "empDf.join(depDf, empDf.dep==depDf.id,'left').show()\n",
    "empDf.join(depDf, empDf.dep==depDf.id,'right').show()\n",
    "empDf.join(depDf, empDf.dep==depDf.id,'full').show()"
   ]
  },
  {
   "cell_type": "code",
   "execution_count": 0,
   "metadata": {
    "application/vnd.databricks.v1+cell": {
     "cellMetadata": {
      "byteLimit": 2048000,
      "rowLimit": 10000
     },
     "inputWidgets": {},
     "nuid": "618f5032-c629-4b1a-b076-35e71c5d0e02",
     "showTitle": false,
     "title": ""
    }
   },
   "outputs": [
    {
     "output_type": "stream",
     "name": "stdout",
     "output_type": "stream",
     "text": [
      "+---+------+------+------+---+\n| id|  name|gender|salary|dep|\n+---+------+------+------+---+\n|  2|Swetha|female| 40000|  1|\n|  1|  Ashu|  male| 20000|  2|\n+---+------+------+------+---+\n\n+---+----+------+------+---+\n| id|name|gender|salary|dep|\n+---+----+------+------+---+\n|  3| Asi|female| 40000|  4|\n+---+----+------+------+---+\n\n"
     ]
    }
   ],
   "source": [
    "# some join functions \n",
    "\n",
    "empDf.join(depDf, empDf.dep==depDf.id, 'leftsemi').show()\n",
    "empDf.join(depDf, empDf.dep==depDf.id, 'leftanti').show()"
   ]
  },
  {
   "cell_type": "code",
   "execution_count": 0,
   "metadata": {
    "application/vnd.databricks.v1+cell": {
     "cellMetadata": {
      "byteLimit": 2048000,
      "rowLimit": 10000
     },
     "inputWidgets": {},
     "nuid": "c6795bf2-77e6-4779-9be5-38ea3cc046b4",
     "showTitle": false,
     "title": ""
    }
   },
   "outputs": [
    {
     "output_type": "stream",
     "name": "stdout",
     "output_type": "stream",
     "text": [
      "+---+------+------+------+---------+---+------+------+------+---------+\n| id|  name|gender|salary|managerId| id|  name|gender|salary|managerId|\n+---+------+------+------+---------+---+------+------+------+---------+\n|  2|Swetha|female| 40000|        1|  1|  Ashu|  male| 20000|        2|\n|  1|  Ashu|  male| 20000|        2|  2|Swetha|female| 40000|        1|\n+---+------+------+------+---------+---+------+------+------+---------+\n\n"
     ]
    }
   ],
   "source": [
    "data1 = [(1,'Ashu','male',20000,2),(2,'Swetha','female',40000,1),(3,'Asi','female',40000,4)]\n",
    "schema1= ['id','name','gender','salary','managerId']\n",
    "\n",
    "df1 = spark.createDataFrame(data1,schema1)\n",
    "\n",
    "from pyspark.sql.functions import col\n",
    "df1.alias('empData').join(df1.alias('mergeData'),\\\n",
    "    col('empData.managerId')==col('mergeData.id')\\\n",
    "    ,'inner').show()"
   ]
  },
  {
   "cell_type": "code",
   "execution_count": 0,
   "metadata": {
    "application/vnd.databricks.v1+cell": {
     "cellMetadata": {},
     "inputWidgets": {},
     "nuid": "34247221-10d0-4f01-afd4-64ebdbe17aa3",
     "showTitle": false,
     "title": ""
    }
   },
   "outputs": [],
   "source": []
  }
 ],
 "metadata": {
  "application/vnd.databricks.v1+notebook": {
   "dashboards": [],
   "language": "python",
   "notebookMetadata": {
    "pythonIndentUnit": 4
   },
   "notebookName": "joinNotebook",
   "widgets": {}
  }
 },
 "nbformat": 4,
 "nbformat_minor": 0
}
