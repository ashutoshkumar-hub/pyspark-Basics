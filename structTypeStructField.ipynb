{
 "cells": [
  {
   "cell_type": "code",
   "execution_count": 0,
   "metadata": {
    "application/vnd.databricks.v1+cell": {
     "cellMetadata": {
      "byteLimit": 2048000,
      "rowLimit": 10000
     },
     "inputWidgets": {},
     "nuid": "32cb5d74-ff4f-48d7-9308-0e2c9b9f4a5b",
     "showTitle": false,
     "title": ""
    }
   },
   "outputs": [
    {
     "output_type": "stream",
     "name": "stdout",
     "output_type": "stream",
     "text": [
      "+---+-------+------+\n| id|   name|Salary|\n+---+-------+------+\n|  1|    Jai| 20000|\n|  2| Raghav| 30000|\n|  3|Prakhar| 40000|\n+---+-------+------+\n\nroot\n |-- id: integer (nullable = true)\n |-- name: string (nullable = true)\n |-- Salary: integer (nullable = true)\n\n"
     ]
    }
   ],
   "source": [
    "from pyspark.sql.types import StructType,StructField,StringType,IntegerType\n",
    "data = [(1,'Jai',20000),\n",
    "        (2,'Raghav',30000),\n",
    "        (3,'Prakhar',40000)]\n",
    "\n",
    "#schema = ['id','name','salary']\n",
    "schema = StructType([\\\n",
    "    StructField(name='id',dataType=IntegerType()),\\\n",
    "    StructField(name='name',dataType=StringType()),\\\n",
    "    StructField(name='Salary',dataType=IntegerType())])\n",
    "\n",
    "df = spark.createDataFrame(data,schema)\n",
    "df.show()\n",
    "df.printSchema()\n"
   ]
  },
  {
   "cell_type": "code",
   "execution_count": 0,
   "metadata": {
    "application/vnd.databricks.v1+cell": {
     "cellMetadata": {
      "byteLimit": 2048000,
      "rowLimit": 10000
     },
     "inputWidgets": {},
     "nuid": "ffdb9990-50e0-452c-a143-19c6763978bc",
     "showTitle": false,
     "title": ""
    }
   },
   "outputs": [
    {
     "output_type": "stream",
     "name": "stdout",
     "output_type": "stream",
     "text": [
      "+---+------------------+------+\n| id|              name|Salary|\n+---+------------------+------+\n|  1|       {Jai, jain}| 20000|\n|  2|{Raghav, Upadhyay}| 30000|\n|  3| {Akarsh, Gangwar}| 40000|\n+---+------------------+------+\n\n"
     ]
    },
    {
     "output_type": "display_data",
     "data": {
      "text/html": [
       "<style scoped>\n",
       "  .table-result-container {\n",
       "    max-height: 300px;\n",
       "    overflow: auto;\n",
       "  }\n",
       "  table, th, td {\n",
       "    border: 1px solid black;\n",
       "    border-collapse: collapse;\n",
       "  }\n",
       "  th, td {\n",
       "    padding: 5px;\n",
       "  }\n",
       "  th {\n",
       "    text-align: left;\n",
       "  }\n",
       "</style><div class='table-result-container'><table class='table-result'><thead style='background-color: white'><tr><th>id</th><th>name</th><th>Salary</th></tr></thead><tbody><tr><td>1</td><td>List(Jai, jain)</td><td>20000</td></tr><tr><td>2</td><td>List(Raghav, Upadhyay)</td><td>30000</td></tr><tr><td>3</td><td>List(Akarsh, Gangwar)</td><td>40000</td></tr></tbody></table></div>"
      ]
     },
     "metadata": {
      "application/vnd.databricks.v1+output": {
       "addedWidgets": {},
       "aggData": [],
       "aggError": "",
       "aggOverflow": false,
       "aggSchema": [],
       "aggSeriesLimitReached": false,
       "aggType": "",
       "arguments": {},
       "columnCustomDisplayInfos": {},
       "data": [
        [
         1,
         [
          "Jai",
          "jain"
         ],
         20000
        ],
        [
         2,
         [
          "Raghav",
          "Upadhyay"
         ],
         30000
        ],
        [
         3,
         [
          "Akarsh",
          "Gangwar"
         ],
         40000
        ]
       ],
       "datasetInfos": [],
       "dbfsResultPath": null,
       "isJsonSchema": true,
       "metadata": {},
       "overflow": false,
       "plotOptions": {
        "customPlotOptions": {},
        "displayType": "table",
        "pivotAggregation": null,
        "pivotColumns": null,
        "xColumns": null,
        "yColumns": null
       },
       "removedWidgets": [],
       "schema": [
        {
         "metadata": "{}",
         "name": "id",
         "type": "\"integer\""
        },
        {
         "metadata": "{}",
         "name": "name",
         "type": "{\"type\":\"struct\",\"fields\":[{\"name\":\"firstName\",\"type\":\"string\",\"nullable\":true,\"metadata\":{}},{\"name\":\"lastName\",\"type\":\"string\",\"nullable\":true,\"metadata\":{}}]}"
        },
        {
         "metadata": "{}",
         "name": "Salary",
         "type": "\"integer\""
        }
       ],
       "type": "table"
      }
     },
     "output_type": "display_data"
    },
    {
     "output_type": "stream",
     "name": "stdout",
     "output_type": "stream",
     "text": [
      "root\n |-- id: integer (nullable = true)\n |-- name: struct (nullable = true)\n |    |-- firstName: string (nullable = true)\n |    |-- lastName: string (nullable = true)\n |-- Salary: integer (nullable = true)\n\n"
     ]
    }
   ],
   "source": [
    "from pyspark.sql.types import StructType,StructField,StringType,IntegerType\n",
    "data = [(1,('Jai','jain'),20000),\n",
    "        (2,('Raghav','Upadhyay'),30000),\n",
    "        (3,('Akarsh','Gangwar'),40000)]\n",
    "\n",
    "#schema = ['id','name','salary']\n",
    "structName = StructType([\\\n",
    "        StructField('firstName',StringType()),\\\n",
    "        StructField('lastName',StringType())])\n",
    "\n",
    "schema = StructType([\\\n",
    "    StructField(name='id',dataType=IntegerType()),\\\n",
    "    StructField(name='name',dataType=structName),\\\n",
    "    StructField(name='Salary',dataType=IntegerType())])\n",
    "\n",
    "df = spark.createDataFrame(data,schema)\n",
    "df.show()\n",
    "display(df)\n",
    "df.printSchema()\n"
   ]
  },
  {
   "cell_type": "code",
   "execution_count": 0,
   "metadata": {
    "application/vnd.databricks.v1+cell": {
     "cellMetadata": {},
     "inputWidgets": {},
     "nuid": "dc03a047-ab32-4b55-90b3-e8fca9455bb8",
     "showTitle": false,
     "title": ""
    }
   },
   "outputs": [],
   "source": []
  }
 ],
 "metadata": {
  "application/vnd.databricks.v1+notebook": {
   "dashboards": [],
   "language": "python",
   "notebookMetadata": {
    "pythonIndentUnit": 4
   },
   "notebookName": "structTypeStructField",
   "widgets": {}
  }
 },
 "nbformat": 4,
 "nbformat_minor": 0
}
