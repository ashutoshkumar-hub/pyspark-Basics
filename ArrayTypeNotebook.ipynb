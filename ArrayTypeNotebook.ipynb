{
 "cells": [
  {
   "cell_type": "code",
   "execution_count": 0,
   "metadata": {
    "application/vnd.databricks.v1+cell": {
     "cellMetadata": {
      "byteLimit": 2048000,
      "rowLimit": 10000
     },
     "inputWidgets": {},
     "nuid": "ef476bb6-c552-44bd-8921-d97806590da1",
     "showTitle": false,
     "title": ""
    }
   },
   "outputs": [
    {
     "output_type": "stream",
     "name": "stdout",
     "output_type": "stream",
     "text": [
      "+---+-------+\n| id|numbers|\n+---+-------+\n|abc| [1, 2]|\n|mno| [4, 5]|\n|xyz| [7, 8]|\n+---+-------+\n\nroot\n |-- id: string (nullable = true)\n |-- numbers: array (nullable = true)\n |    |-- element: long (containsNull = true)\n\n"
     ]
    }
   ],
   "source": [
    "data=[('abc',[1,2]),('mno',[4,5]),('xyz',[7,8])]\n",
    "schema=['id','numbers']\n",
    "\n",
    "df=spark.createDataFrame(data,schema)\n",
    "df.show()\n",
    "df.printSchema()"
   ]
  },
  {
   "cell_type": "code",
   "execution_count": 0,
   "metadata": {
    "application/vnd.databricks.v1+cell": {
     "cellMetadata": {
      "byteLimit": 2048000,
      "rowLimit": 10000
     },
     "inputWidgets": {},
     "nuid": "0f32c82f-f95d-4691-933f-e008c7d31eda",
     "showTitle": false,
     "title": ""
    }
   },
   "outputs": [
    {
     "output_type": "stream",
     "name": "stdout",
     "output_type": "stream",
     "text": [
      "+---+------+\n| id|number|\n+---+------+\n|abc|[1, 2]|\n|mno|[4, 5]|\n|xyz|[7, 8]|\n+---+------+\n\nroot\n |-- id: string (nullable = true)\n |-- number: array (nullable = true)\n |    |-- element: integer (containsNull = true)\n\n"
     ]
    },
    {
     "output_type": "display_data",
     "data": {
      "text/html": [
       "<style scoped>\n",
       "  .table-result-container {\n",
       "    max-height: 300px;\n",
       "    overflow: auto;\n",
       "  }\n",
       "  table, th, td {\n",
       "    border: 1px solid black;\n",
       "    border-collapse: collapse;\n",
       "  }\n",
       "  th, td {\n",
       "    padding: 5px;\n",
       "  }\n",
       "  th {\n",
       "    text-align: left;\n",
       "  }\n",
       "</style><div class='table-result-container'><table class='table-result'><thead style='background-color: white'><tr><th>id</th><th>number</th></tr></thead><tbody><tr><td>abc</td><td>List(1, 2)</td></tr><tr><td>mno</td><td>List(4, 5)</td></tr><tr><td>xyz</td><td>List(7, 8)</td></tr></tbody></table></div>"
      ]
     },
     "metadata": {
      "application/vnd.databricks.v1+output": {
       "addedWidgets": {},
       "aggData": [],
       "aggError": "",
       "aggOverflow": false,
       "aggSchema": [],
       "aggSeriesLimitReached": false,
       "aggType": "",
       "arguments": {},
       "columnCustomDisplayInfos": {},
       "data": [
        [
         "abc",
         [
          1,
          2
         ]
        ],
        [
         "mno",
         [
          4,
          5
         ]
        ],
        [
         "xyz",
         [
          7,
          8
         ]
        ]
       ],
       "datasetInfos": [],
       "dbfsResultPath": null,
       "isJsonSchema": true,
       "metadata": {},
       "overflow": false,
       "plotOptions": {
        "customPlotOptions": {},
        "displayType": "table",
        "pivotAggregation": null,
        "pivotColumns": null,
        "xColumns": null,
        "yColumns": null
       },
       "removedWidgets": [],
       "schema": [
        {
         "metadata": "{}",
         "name": "id",
         "type": "\"string\""
        },
        {
         "metadata": "{}",
         "name": "number",
         "type": "{\"type\":\"array\",\"elementType\":\"integer\",\"containsNull\":true}"
        }
       ],
       "type": "table"
      }
     },
     "output_type": "display_data"
    }
   ],
   "source": [
    "from pyspark.sql.types import StructType,StructField,StringType,IntegerType,ArrayType\n",
    "data=[('abc',[1,2]),('mno',[4,5]),('xyz',[7,8])]\n",
    "\n",
    "#schema = ['id','name','salary']\n",
    "schema = StructType([\\\n",
    "    StructField('id',dataType=StringType()),\\\n",
    "    StructField('number',ArrayType(IntegerType()))])\n",
    "\n",
    "df = spark.createDataFrame(data,schema)\n",
    "df.show()\n",
    "df.printSchema()\n",
    "display(df)"
   ]
  },
  {
   "cell_type": "code",
   "execution_count": 0,
   "metadata": {
    "application/vnd.databricks.v1+cell": {
     "cellMetadata": {
      "byteLimit": 2048000,
      "rowLimit": 10000
     },
     "inputWidgets": {},
     "nuid": "e91cc597-7026-470c-b3f1-d659b702828a",
     "showTitle": false,
     "title": ""
    }
   },
   "outputs": [
    {
     "output_type": "stream",
     "name": "stdout",
     "output_type": "stream",
     "text": [
      "+---+------+------------+\n| id|number|firstNumbers|\n+---+------+------------+\n|abc|[1, 2]|           1|\n|mno|[4, 5]|           4|\n|xyz|[7, 8]|           7|\n+---+------+------------+\n\n"
     ]
    }
   ],
   "source": [
    "df.withColumn('firstNumbers',df.number[0]).show()\n"
   ]
  },
  {
   "cell_type": "code",
   "execution_count": 0,
   "metadata": {
    "application/vnd.databricks.v1+cell": {
     "cellMetadata": {
      "byteLimit": 2048000,
      "rowLimit": 10000
     },
     "inputWidgets": {},
     "nuid": "7c5ea054-9368-425d-869e-af15191e8b21",
     "showTitle": false,
     "title": ""
    }
   },
   "outputs": [
    {
     "output_type": "stream",
     "name": "stdout",
     "output_type": "stream",
     "text": [
      "+----+----+-------+\n|num1|num2|numbers|\n+----+----+-------+\n|   1|   2| [1, 2]|\n|   4|   5| [4, 5]|\n+----+----+-------+\n\nroot\n |-- num1: long (nullable = true)\n |-- num2: long (nullable = true)\n |-- numbers: array (nullable = false)\n |    |-- element: long (containsNull = true)\n\n"
     ]
    }
   ],
   "source": [
    "from pyspark.sql.functions import array,col\n",
    "data=[(1,2),(4,5)]\n",
    "schema=['num1','num2']\n",
    "\n",
    "df=spark.createDataFrame(data,schema)\n",
    "df1=df.withColumn('numbers',array(col('num1'),col('num2')))\n",
    "df1.show()\n",
    "df1.printSchema()"
   ]
  },
  {
   "cell_type": "code",
   "execution_count": 0,
   "metadata": {
    "application/vnd.databricks.v1+cell": {
     "cellMetadata": {},
     "inputWidgets": {},
     "nuid": "253bc1bc-190a-461d-ae60-60d23ff8607d",
     "showTitle": false,
     "title": ""
    }
   },
   "outputs": [],
   "source": []
  }
 ],
 "metadata": {
  "application/vnd.databricks.v1+notebook": {
   "dashboards": [],
   "language": "python",
   "notebookMetadata": {
    "pythonIndentUnit": 4
   },
   "notebookName": "ArrayTypeNotebook",
   "widgets": {}
  }
 },
 "nbformat": 4,
 "nbformat_minor": 0
}
