{
 "cells": [
  {
   "cell_type": "code",
   "execution_count": 0,
   "metadata": {
    "application/vnd.databricks.v1+cell": {
     "cellMetadata": {
      "byteLimit": 2048000,
      "rowLimit": 10000
     },
     "inputWidgets": {},
     "nuid": "5508eadd-e12d-448b-b646-d6d51c7b52bb",
     "showTitle": false,
     "title": ""
    }
   },
   "outputs": [
    {
     "output_type": "stream",
     "name": "stdout",
     "output_type": "stream",
     "text": [
      "+---+--------------------+\n| id|                name|\n+---+--------------------+\n|  1|                 Jai|\n|  2|              Raghav|\n|  3|             Prakhar|\n|  4|                Ashu|\n|  5|hgshgdsnkssjdafsa...|\n+---+--------------------+\n\n"
     ]
    }
   ],
   "source": [
    "data = [(1,'Jai'),\n",
    "        (2,'Raghav'),\n",
    "        (3,'Prakhar'),\n",
    "        (4,'Ashu'),\n",
    "        (5,'hgshgdsnkssjdafsagdjhgshsg')] #in this show() function only show upto 20 characters and above 20 char it will be truncate the value\n",
    "\n",
    "schema = ['id','name']\n",
    "df = spark.createDataFrame(data=data,schema=schema)\n",
    "df.show()"
   ]
  },
  {
   "cell_type": "code",
   "execution_count": 0,
   "metadata": {
    "application/vnd.databricks.v1+cell": {
     "cellMetadata": {
      "byteLimit": 2048000,
      "rowLimit": 10000
     },
     "inputWidgets": {},
     "nuid": "0202d710-f4b1-4b57-82c7-364364ddc6ac",
     "showTitle": false,
     "title": ""
    }
   },
   "outputs": [
    {
     "output_type": "stream",
     "name": "stdout",
     "output_type": "stream",
     "text": [
      "Help on method show in module pyspark.sql.dataframe:\n\nshow(n: int = 20, truncate: Union[bool, int] = True, vertical: bool = False) -> None method of pyspark.sql.dataframe.DataFrame instance\n    Prints the first ``n`` rows to the console.\n    \n    .. versionadded:: 1.3.0\n    \n    .. versionchanged:: 3.4.0\n        Support Spark Connect.\n    \n    Parameters\n    ----------\n    n : int, optional\n        Number of rows to show.\n    truncate : bool or int, optional\n        If set to ``True``, truncate strings longer than 20 chars by default.\n        If set to a number greater than one, truncates long strings to length ``truncate``\n        and align cells right.\n    vertical : bool, optional\n        If set to ``True``, print output rows vertically (one line\n        per column value).\n    \n    Returns\n    -------\n    None\n    \n    Examples\n    --------\n    >>> df = spark.createDataFrame([\n    ...     (14, \"Tom\"), (23, \"Alice\"), (16, \"Bob\")], [\"age\", \"name\"])\n    \n    Show only top 2 rows.\n    \n    >>> df.show(2)\n    +---+-----+\n    |age| name|\n    +---+-----+\n    | 14|  Tom|\n    | 23|Alice|\n    +---+-----+\n    only showing top 2 rows\n    \n    Show :class:`DataFrame` where the maximum number of characters is 3.\n    \n    >>> df.show(truncate=3)\n    +---+----+\n    |age|name|\n    +---+----+\n    | 14| Tom|\n    | 23| Ali|\n    | 16| Bob|\n    +---+----+\n    \n    Show :class:`DataFrame` vertically.\n    \n    >>> df.show(vertical=True)\n    -RECORD 0-----\n    age  | 14\n    name | Tom\n    -RECORD 1-----\n    age  | 23\n    name | Alice\n    -RECORD 2-----\n    age  | 16\n    name | Bob\n\n"
     ]
    }
   ],
   "source": [
    "help(df.show)"
   ]
  },
  {
   "cell_type": "code",
   "execution_count": 0,
   "metadata": {
    "application/vnd.databricks.v1+cell": {
     "cellMetadata": {
      "byteLimit": 2048000,
      "rowLimit": 10000
     },
     "inputWidgets": {},
     "nuid": "1108a354-55da-477a-b35a-3457be2286a4",
     "showTitle": false,
     "title": ""
    }
   },
   "outputs": [
    {
     "output_type": "stream",
     "name": "stdout",
     "output_type": "stream",
     "text": [
      "+---+--------------------------+\n|id |name                      |\n+---+--------------------------+\n|1  |Jai                       |\n|2  |Raghav                    |\n|3  |Prakhar                   |\n|4  |Ashu                      |\n|5  |hgshgdsnkssjdafsagdjhgshsg|\n+---+--------------------------+\n\n+---+------+\n|id |name  |\n+---+------+\n|1  |Jai   |\n|2  |Raghav|\n+---+------+\nonly showing top 2 rows\n\n-RECORD 0------\n id   | 1      \n name | Jai    \n-RECORD 1------\n id   | 2      \n name | Raghav \nonly showing top 2 rows\n\n"
     ]
    }
   ],
   "source": [
    "data = [(1,'Jai'),\n",
    "        (2,'Raghav'),\n",
    "        (3,'Prakhar'),\n",
    "        (4,'Ashu'),\n",
    "        (5,'hgshgdsnkssjdafsagdjhgshsg')] #in this show() function only show upto 20 characters and above 20 char it will be truncate the value\n",
    "\n",
    "schema = ['id','name']\n",
    "df = spark.createDataFrame(data=data,schema=schema)\n",
    "df.show(truncate=False) # If we use truncate value is false then it will gives all char values.\n",
    "df.show(n=2,truncate=False) # This is given 1st 2 rows values.\n",
    "df.show(n=2,truncate=False,vertical=True) # It is used for show all vertical values. "
   ]
  },
  {
   "cell_type": "code",
   "execution_count": 0,
   "metadata": {
    "application/vnd.databricks.v1+cell": {
     "cellMetadata": {},
     "inputWidgets": {},
     "nuid": "e190b75b-777e-4080-9edc-7bf2546d108a",
     "showTitle": false,
     "title": ""
    }
   },
   "outputs": [],
   "source": []
  }
 ],
 "metadata": {
  "application/vnd.databricks.v1+notebook": {
   "dashboards": [],
   "language": "python",
   "notebookMetadata": {
    "pythonIndentUnit": 4
   },
   "notebookName": "showNotebook",
   "widgets": {}
  }
 },
 "nbformat": 4,
 "nbformat_minor": 0
}
