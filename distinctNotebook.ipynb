{
 "cells": [
  {
   "cell_type": "code",
   "execution_count": 0,
   "metadata": {
    "application/vnd.databricks.v1+cell": {
     "cellMetadata": {
      "byteLimit": 2048000,
      "rowLimit": 10000
     },
     "inputWidgets": {},
     "nuid": "dfff8d9a-9834-40ab-8a7f-43ba9e4de86a",
     "showTitle": false,
     "title": ""
    }
   },
   "outputs": [
    {
     "output_type": "stream",
     "name": "stdout",
     "output_type": "stream",
     "text": [
      "+---+------+------+------+\n| id|  name|gender|salary|\n+---+------+------+------+\n|  1|  Ashu|  male| 20000|\n|  2|Swetha|female| 40000|\n|  2|Swetha|female| 40000|\n|  3|   Asi|female| 50000|\n|  3|   Asi|female| 50000|\n|  4| Atlee|  male|  6000|\n+---+------+------+------+\n\nroot\n |-- id: long (nullable = true)\n |-- name: string (nullable = true)\n |-- gender: string (nullable = true)\n |-- salary: long (nullable = true)\n\n"
     ]
    }
   ],
   "source": [
    "data = [(1,'Ashu','male',20000),(2,'Swetha','female',40000),(2,'Swetha','female',40000),(3,'Asi','female',50000),(3,'Asi','female',50000),(4,'Atlee','male',6000)]\n",
    "\n",
    "schema=['id','name','gender','salary']\n",
    "\n",
    "df = spark.createDataFrame(data,schema)\n",
    "\n",
    "df.show()\n",
    "df.printSchema()"
   ]
  },
  {
   "cell_type": "code",
   "execution_count": 0,
   "metadata": {
    "application/vnd.databricks.v1+cell": {
     "cellMetadata": {
      "byteLimit": 2048000,
      "rowLimit": 10000
     },
     "inputWidgets": {},
     "nuid": "e6ea7ab4-e217-46e6-809c-94cab8cf041b",
     "showTitle": false,
     "title": ""
    }
   },
   "outputs": [
    {
     "output_type": "stream",
     "name": "stdout",
     "output_type": "stream",
     "text": [
      "+---+------+------+------+\n| id|  name|gender|salary|\n+---+------+------+------+\n|  1|  Ashu|  male| 20000|\n|  2|Swetha|female| 40000|\n|  3|   Asi|female| 50000|\n|  4| Atlee|  male|  6000|\n+---+------+------+------+\n\n+---+------+------+------+\n| id|  name|gender|salary|\n+---+------+------+------+\n|  1|  Ashu|  male| 20000|\n|  2|Swetha|female| 40000|\n|  3|   Asi|female| 50000|\n|  4| Atlee|  male|  6000|\n+---+------+------+------+\n\n+---+------+------+------+\n| id|  name|gender|salary|\n+---+------+------+------+\n|  1|  Ashu|  male| 20000|\n|  2|Swetha|female| 40000|\n|  3|   Asi|female| 50000|\n|  4| Atlee|  male|  6000|\n+---+------+------+------+\n\n"
     ]
    }
   ],
   "source": [
    "df.distinct().show()\n",
    "\n",
    "df.dropDuplicates().show()\n",
    "\n",
    "df.dropDuplicates(['gender','name']).show()"
   ]
  },
  {
   "cell_type": "code",
   "execution_count": 0,
   "metadata": {
    "application/vnd.databricks.v1+cell": {
     "cellMetadata": {},
     "inputWidgets": {},
     "nuid": "f69e33f8-b172-4969-b1d3-afecaaf88cce",
     "showTitle": false,
     "title": ""
    }
   },
   "outputs": [],
   "source": []
  }
 ],
 "metadata": {
  "application/vnd.databricks.v1+notebook": {
   "dashboards": [],
   "language": "python",
   "notebookMetadata": {
    "pythonIndentUnit": 4
   },
   "notebookName": "distinctNotebook",
   "widgets": {}
  }
 },
 "nbformat": 4,
 "nbformat_minor": 0
}
