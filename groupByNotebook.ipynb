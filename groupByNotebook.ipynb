{
 "cells": [
  {
   "cell_type": "code",
   "execution_count": 0,
   "metadata": {
    "application/vnd.databricks.v1+cell": {
     "cellMetadata": {
      "byteLimit": 2048000,
      "rowLimit": 10000
     },
     "inputWidgets": {},
     "nuid": "77b7fc38-d6f6-4d7f-a693-d55c7afc66f4",
     "showTitle": false,
     "title": ""
    }
   },
   "outputs": [
    {
     "output_type": "stream",
     "name": "stdout",
     "output_type": "stream",
     "text": [
      "+---+--------+------+------+----------+\n| id|    name|gender|salary|department|\n+---+--------+------+------+----------+\n|  1|    Ashu|  male| 20000|        IT|\n|  2|  Swetha|female| 30000|        HR|\n|  3|     Asi|female| 40000|   Payroll|\n|  4|Abhishek|  male| 50000|        HR|\n|  5|  Akarsh|  male| 60000|        IT|\n|  6|     Jai|  male| 10000|   Payroll|\n|  7|  Ankita|female| 70000|        IT|\n+---+--------+------+------+----------+\n\n+----------+------+-----+\n|department|gender|count|\n+----------+------+-----+\n|        IT|  male|    2|\n|        HR|female|    1|\n|   Payroll|female|    1|\n|        HR|  male|    1|\n|   Payroll|  male|    1|\n|        IT|female|    1|\n+----------+------+-----+\n\n"
     ]
    }
   ],
   "source": [
    "data = [(1,'Ashu','male',20000,'IT'),\\\n",
    "    (2,'Swetha','female',30000,'HR'),\\\n",
    "    (3,'Asi','female',40000,'Payroll'),\\\n",
    "    (4,'Abhishek','male',50000,'HR'),\\\n",
    "    (5,'Akarsh','male',60000,'IT'),\\\n",
    "    (6,'Jai','male',10000,'Payroll'),\\\n",
    "    (7,'Ankita','female',70000,'IT')]\n",
    "\n",
    "schema=['id','name','gender','salary','department']\n",
    "\n",
    "df = spark.createDataFrame(data,schema)\n",
    "df.show()\n",
    "\n",
    "df1 = df.groupBy('department','gender').count()\n",
    "df1.show()"
   ]
  },
  {
   "cell_type": "code",
   "execution_count": 0,
   "metadata": {
    "application/vnd.databricks.v1+cell": {
     "cellMetadata": {
      "byteLimit": 2048000,
      "rowLimit": 10000
     },
     "inputWidgets": {},
     "nuid": "2d6e31e7-1cac-45d0-8852-914a4a73c91a",
     "showTitle": false,
     "title": ""
    }
   },
   "outputs": [
    {
     "output_type": "stream",
     "name": "stdout",
     "output_type": "stream",
     "text": [
      "+---+--------+------+------+----------+\n| id|    name|gender|salary|department|\n+---+--------+------+------+----------+\n|  1|    Ashu|  male| 20000|        IT|\n|  2|  Swetha|female| 30000|        HR|\n|  3|     Asi|female| 40000|   Payroll|\n|  4|Abhishek|  male| 50000|        HR|\n|  5|  Akarsh|  male| 60000|        IT|\n|  6|     Jai|  male| 10000|   Payroll|\n|  7|  Ankita|female| 70000|        IT|\n+---+--------+------+------+----------+\n\n+----------+-----------+\n|department|min(salary)|\n+----------+-----------+\n|        IT|      20000|\n|        HR|      30000|\n|   Payroll|      10000|\n+----------+-----------+\n\n"
     ]
    }
   ],
   "source": [
    "# GroupBy with aggregate Functions\n",
    "\n",
    "data = [(1,'Ashu','male',20000,'IT'),\\\n",
    "    (2,'Swetha','female',30000,'HR'),\\\n",
    "    (3,'Asi','female',40000,'Payroll'),\\\n",
    "    (4,'Abhishek','male',50000,'HR'),\\\n",
    "    (5,'Akarsh','male',60000,'IT'),\\\n",
    "    (6,'Jai','male',10000,'Payroll'),\\\n",
    "    (7,'Ankita','female',70000,'IT')]\n",
    "\n",
    "schema=['id','name','gender','salary','department']\n",
    "\n",
    "df = spark.createDataFrame(data,schema)\n",
    "df.show()\n",
    "\n",
    "df.groupBy('department').min('salary').show()"
   ]
  },
  {
   "cell_type": "code",
   "execution_count": 0,
   "metadata": {
    "application/vnd.databricks.v1+cell": {
     "cellMetadata": {
      "byteLimit": 2048000,
      "rowLimit": 10000
     },
     "inputWidgets": {},
     "nuid": "eaa760dd-07c6-48bb-a8e0-ebf8f6e4db43",
     "showTitle": false,
     "title": ""
    }
   },
   "outputs": [
    {
     "output_type": "stream",
     "name": "stdout",
     "output_type": "stream",
     "text": [
      "+----------+-----------+---------+---------+\n|department|countOfEmps|minSalary|maxSalary|\n+----------+-----------+---------+---------+\n|        IT|          3|    20000|    70000|\n|        HR|          2|    30000|    50000|\n|   Payroll|          2|    10000|    40000|\n+----------+-----------+---------+---------+\n\n"
     ]
    }
   ],
   "source": [
    "from pyspark.sql.functions import count,min,max\n",
    "\n",
    "df.groupBy('department').agg(count('*').alias('countOfEmps'),\\\n",
    "    min('salary').alias('minSalary'),\\\n",
    "    max('salary').alias('maxSalary')).show()"
   ]
  },
  {
   "cell_type": "code",
   "execution_count": 0,
   "metadata": {
    "application/vnd.databricks.v1+cell": {
     "cellMetadata": {},
     "inputWidgets": {},
     "nuid": "6b4df92b-aac6-4d03-b333-78718d760146",
     "showTitle": false,
     "title": ""
    }
   },
   "outputs": [],
   "source": []
  }
 ],
 "metadata": {
  "application/vnd.databricks.v1+notebook": {
   "dashboards": [],
   "language": "python",
   "notebookMetadata": {
    "pythonIndentUnit": 4
   },
   "notebookName": "groupByNotebook",
   "widgets": {}
  }
 },
 "nbformat": 4,
 "nbformat_minor": 0
}
